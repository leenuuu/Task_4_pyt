{
 "cells": [
  {
   "cell_type": "code",
   "execution_count": 1,
   "id": "801421ef",
   "metadata": {},
   "outputs": [
    {
     "name": "stdout",
     "output_type": "stream",
     "text": [
      "The number is positive.\n",
      "The number is also even.\n"
     ]
    }
   ],
   "source": [
    "number = 10\n",
    "\n",
    "if number >= 0:\n",
    "    if number == 0:\n",
    "        print(\"The number is zero.\")\n",
    "    else:\n",
    "        print(\"The number is positive.\")\n",
    "        if (number % 2) == 0:\n",
    "            print(\"The number is also even.\")\n",
    "        else:\n",
    "            print(\"The number is also odd.\")\n",
    "else:\n",
    "    print(\"The number is negative.\")"
   ]
  },
  {
   "cell_type": "code",
   "execution_count": 2,
   "id": "fa36ae5f",
   "metadata": {},
   "outputs": [
    {
     "name": "stdout",
     "output_type": "stream",
     "text": [
      "Login successful.\n",
      "Welcome, user. You have limited access.\n"
     ]
    }
   ],
   "source": [
    "username = \"admin\"\n",
    "password = \"password123\"\n",
    "role = \"editor\"\n",
    "\n",
    "if username == \"admin\":\n",
    "    if password == \"password123\":\n",
    "        print(\"Login successful.\")\n",
    "        if role == \"admin\":\n",
    "            print(\"Welcome, Administrator!\")\n",
    "        else:\n",
    "            print(\"Welcome, user. You have limited access.\")\n",
    "    else:\n",
    "        print(\"Incorrect password.\")\n",
    "else:\n",
    "    print(\"Incorrect username.\")"
   ]
  },
  {
   "cell_type": "code",
   "execution_count": 3,
   "id": "55733aeb",
   "metadata": {},
   "outputs": [
    {
     "name": "stdout",
     "output_type": "stream",
     "text": [
      "It's a warm day.\n",
      "Stay inside and watch a movie.\n"
     ]
    }
   ],
   "source": [
    "temperature = 25\n",
    "is_raining = True\n",
    "\n",
    "if temperature > 20:\n",
    "    print(\"It's a warm day.\")\n",
    "    if is_raining:\n",
    "        print(\"Stay inside and watch a movie.\")\n",
    "    else:\n",
    "        print(\"It's sunny. Go to the park!\")\n",
    "else:\n",
    "    print(\"It's a cold day.\")\n",
    "    if temperature < 10:\n",
    "        print(\"Wear a heavy coat.\")\n",
    "    else:\n",
    "        print(\"Wear a light jacket.\")"
   ]
  },
  {
   "cell_type": "code",
   "execution_count": 4,
   "id": "ce29b2ba",
   "metadata": {},
   "outputs": [
    {
     "name": "stdout",
     "output_type": "stream",
     "text": [
      "You are old enough to vote.\n",
      "You are also old enough to drink.\n"
     ]
    }
   ],
   "source": [
    "age = 22\n",
    "\n",
    "if age >= 18:\n",
    "    print(\"You are old enough to vote.\")\n",
    "    if age >= 21:\n",
    "        print(\"You are also old enough to drink.\")\n",
    "    else:\n",
    "        print(\"You are not old enough to drink.\")\n",
    "else:\n",
    "    print(\"You are not old enough to vote.\")"
   ]
  },
  {
   "cell_type": "code",
   "execution_count": 5,
   "id": "25c96ea7",
   "metadata": {},
   "outputs": [
    {
     "name": "stdout",
     "output_type": "stream",
     "text": [
      "You have a good credit score.\n",
      "You are eligible for a loan.\n"
     ]
    }
   ],
   "source": [
    "\n",
    "credit_score = 750\n",
    "annual_income = 60000\n",
    "\n",
    "if credit_score >= 700:\n",
    "    print(\"You have a good credit score.\")\n",
    "    if annual_income >= 50000:\n",
    "        print(\"You are eligible for a loan.\")\n",
    "    else:\n",
    "        print(\"Your income is too low for the loan.\")\n",
    "else:\n",
    "    print(\"Your credit score is too low for a loan.\")"
   ]
  },
  {
   "cell_type": "code",
   "execution_count": 6,
   "id": "526f1c0b",
   "metadata": {},
   "outputs": [
    {
     "name": "stdout",
     "output_type": "stream",
     "text": [
      "You have selected a fighter class.\n",
      "You are a powerful warrior.\n"
     ]
    }
   ],
   "source": [
    "character_type = \"fighter\"\n",
    "sub_class = \"warrior\"\n",
    "\n",
    "if character_type == \"fighter\":\n",
    "    print(\"You have selected a fighter class.\")\n",
    "    if sub_class == \"warrior\":\n",
    "        print(\"You are a powerful warrior.\")\n",
    "    else:\n",
    "        print(\"You are a noble knight.\")\n",
    "else:\n",
    "    print(\"You have selected a magic or rogue class.\")"
   ]
  },
  {
   "cell_type": "code",
   "execution_count": 7,
   "id": "b3932a28",
   "metadata": {},
   "outputs": [
    {
     "name": "stdout",
     "output_type": "stream",
     "text": [
      "Your account has a positive balance.\n",
      "You are not eligible for a bonus yet.\n"
     ]
    }
   ],
   "source": [
    "account_balance = 5000\n",
    "\n",
    "if account_balance > 0:\n",
    "    print(\"Your account has a positive balance.\")\n",
    "    if account_balance >= 10000:\n",
    "        print(\"You receive a loyalty bonus.\")\n",
    "    else:\n",
    "        print(\"You are not eligible for a bonus yet.\")\n",
    "else:\n",
    "    print(\"Your account has a zero or negative balance.\")"
   ]
  },
  {
   "cell_type": "code",
   "execution_count": 8,
   "id": "071854c3",
   "metadata": {},
   "outputs": [
    {
     "name": "stdout",
     "output_type": "stream",
     "text": [
      "This movie is rated R.\n",
      "You are old enough to watch this movie.\n"
     ]
    }
   ],
   "source": [
    "movie_rating = \"R\"\n",
    "age_of_viewer = 17\n",
    "\n",
    "if movie_rating == \"R\":\n",
    "    print(\"This movie is rated R.\")\n",
    "    if age_of_viewer >= 17:\n",
    "        print(\"You are old enough to watch this movie.\")\n",
    "    else:\n",
    "        print(\"You are not old enough to watch this movie.\")\n",
    "else:\n",
    "    print(\"This is a family-friendly movie.\")"
   ]
  },
  {
   "cell_type": "code",
   "execution_count": 9,
   "id": "4c057983",
   "metadata": {},
   "outputs": [
    {
     "name": "stdout",
     "output_type": "stream",
     "text": [
      "You have permission to access the file.\n",
      "You can read and write to the file.\n"
     ]
    }
   ],
   "source": [
    "has_access = True\n",
    "permission = \"write\"\n",
    "\n",
    "if has_access:\n",
    "    print(\"You have permission to access the file.\")\n",
    "    if permission == \"read\":\n",
    "        print(\"You can read the file, but not modify it.\")\n",
    "    else:\n",
    "        print(\"You can read and write to the file.\")\n",
    "else:\n",
    "    print(\"Access denied.\")"
   ]
  },
  {
   "cell_type": "code",
   "execution_count": 13,
   "id": "31725452",
   "metadata": {},
   "outputs": [
    {
     "name": "stdout",
     "output_type": "stream",
     "text": [
      "the number is negative\n"
     ]
    }
   ],
   "source": [
    "num = -90 \n",
    "\n",
    "if num >= 0:\n",
    "    if num == 0:\n",
    "        print(\"the number is zero\")\n",
    "    else:\n",
    "        print(\"the number is positive\")\n",
    "        if num % 2 == 0:\n",
    "            print(\"the positive number is even\") \n",
    "        else: \n",
    "            print(\"the positive number is odd\")\n",
    "\n",
    "else:\n",
    "    print(\"the number is negative\")"
   ]
  }
 ],
 "metadata": {
  "kernelspec": {
   "display_name": "Python 3",
   "language": "python",
   "name": "python3"
  },
  "language_info": {
   "codemirror_mode": {
    "name": "ipython",
    "version": 3
   },
   "file_extension": ".py",
   "mimetype": "text/x-python",
   "name": "python",
   "nbconvert_exporter": "python",
   "pygments_lexer": "ipython3",
   "version": "3.13.7"
  }
 },
 "nbformat": 4,
 "nbformat_minor": 5
}
